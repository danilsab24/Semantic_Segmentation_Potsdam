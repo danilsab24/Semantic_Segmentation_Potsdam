{
  "nbformat": 4,
  "nbformat_minor": 0,
  "metadata": {
    "colab": {
      "provenance": [],
      "authorship_tag": "ABX9TyPVP6yBLusoHsRcpCQ1bkfJ",
      "include_colab_link": true
    },
    "kernelspec": {
      "name": "python3",
      "display_name": "Python 3"
    },
    "language_info": {
      "name": "python"
    }
  },
  "cells": [
    {
      "cell_type": "markdown",
      "metadata": {
        "id": "view-in-github",
        "colab_type": "text"
      },
      "source": [
        "<a href=\"https://colab.research.google.com/github/danilsab24/Semantic_Segmentation_Potsdam/blob/main/Semantic_Segmentation_Postdam.ipynb\" target=\"_parent\"><img src=\"https://colab.research.google.com/assets/colab-badge.svg\" alt=\"Open In Colab\"/></a>"
      ]
    },
    {
      "cell_type": "markdown",
      "source": [
        "# Import delle librerie"
      ],
      "metadata": {
        "id": "ivDGwXmghBF-"
      }
    },
    {
      "cell_type": "code",
      "execution_count": 23,
      "metadata": {
        "colab": {
          "base_uri": "https://localhost:8080/"
        },
        "id": "BxsTnK7mfVyc",
        "outputId": "c24a5516-1114-4943-ce3b-22a462d4ee0b"
      },
      "outputs": [
        {
          "output_type": "stream",
          "name": "stdout",
          "text": [
            "fatal: destination path 'Semantic_Segmentation_Potsdam' already exists and is not an empty directory.\n"
          ]
        }
      ],
      "source": [
        "!git clone https://github.com/danilsab24/Semantic_Segmentation_Potsdam.git"
      ]
    },
    {
      "cell_type": "code",
      "source": [
        "from Semantic_Segmentation_Potsdam.Unet import UNET\n",
        "from Semantic_Segmentation_Potsdam.dataset import Data"
      ],
      "metadata": {
        "id": "RUs3n1Nmh3Zc"
      },
      "execution_count": 24,
      "outputs": []
    },
    {
      "cell_type": "code",
      "source": [
        "from google.colab import drive\n",
        "drive.mount('/content/drive')"
      ],
      "metadata": {
        "colab": {
          "base_uri": "https://localhost:8080/"
        },
        "id": "CNIZRy8BpSsA",
        "outputId": "b0d3fdeb-23fa-44d2-c689-e20b17f35947"
      },
      "execution_count": 25,
      "outputs": [
        {
          "output_type": "stream",
          "name": "stdout",
          "text": [
            "Drive already mounted at /content/drive; to attempt to forcibly remount, call drive.mount(\"/content/drive\", force_remount=True).\n"
          ]
        }
      ]
    },
    {
      "cell_type": "code",
      "source": [
        "# Librerie per il Dataset\n",
        "import torch\n",
        "from torch.utils.data import DataLoader, random_split\n",
        "from torchvision import transforms\n",
        "from albumentations import Compose, RandomCrop, HorizontalFlip, Normalize\n",
        "\n",
        "# Visualizzazione delle immagini\n",
        "import matplotlib.pyplot as plt\n",
        "import numpy as np\n",
        "from torchvision.utils import make_grid"
      ],
      "metadata": {
        "id": "fkoQhmJjvFFA"
      },
      "execution_count": 18,
      "outputs": []
    },
    {
      "cell_type": "markdown",
      "source": [
        "# Caricamento Dataset"
      ],
      "metadata": {
        "id": "eGvf-Ba5pTTc"
      }
    },
    {
      "cell_type": "code",
      "source": [
        "images_path = \"/content/drive/MyDrive/Semantic_Segmentation_Postdam/images_IRRG\"\n",
        "labels_path = \"/content/drive/MyDrive/Semantic_Segmentation_Postdam/labels\""
      ],
      "metadata": {
        "id": "ohCONeLJqTtQ"
      },
      "execution_count": 26,
      "outputs": []
    },
    {
      "cell_type": "code",
      "source": [
        "train_transform = Compose([\n",
        "    RandomCrop(height=256, width=256),  # Esempio di data augmentation: ritaglio casuale\n",
        "    HorizontalFlip(p=0.5),  # Esempio di data augmentation: flip orizzontale\n",
        "    Normalize(mean=[0.485, 0.456, 0.406], std=[0.229, 0.224, 0.225])  # Normalizzazione\n",
        "])\n",
        "\n",
        "# Trasformazione per il test (solo normalizzazione)\n",
        "test_transform = transforms.Compose([\n",
        "    Normalize(mean=[0.485, 0.456, 0.406], std=[0.229, 0.224, 0.225])  # Normalizzazione\n",
        "])"
      ],
      "metadata": {
        "id": "yacD9SOPwLLH"
      },
      "execution_count": 27,
      "outputs": []
    },
    {
      "cell_type": "code",
      "source": [
        "# Creazione del dataset\n",
        "dataset = Data(images_path, labels_path)\n",
        "\n",
        "# Divisione dei dati in train, validation e test set\n",
        "val_split = 0.1\n",
        "test_split = 0.1\n",
        "dataset_size = len(dataset)\n",
        "val_size = int(val_split * dataset_size)\n",
        "test_size = int(test_split * dataset_size)\n",
        "train_size = dataset_size - val_size - test_size\n",
        "\n",
        "train_dataset, val_dataset, test_dataset = random_split(dataset, [train_size, val_size, test_size])\n",
        "\n",
        "# Applica le trasformazioni al trainset e al testset\n",
        "train_dataset.transform = train_transform\n",
        "val_dataset.transform = train_transform\n",
        "test_dataset.transform = test_transform\n",
        "\n",
        "# Creazione dei DataLoader\n",
        "batch_size = 5  # Definisci la dimensione del batch desiderata\n",
        "\n",
        "train_loader = DataLoader(train_dataset, batch_size=batch_size, shuffle=True, drop_last=True, pin_memory=True)\n",
        "val_loader = DataLoader(val_dataset, batch_size=batch_size, shuffle=False, drop_last=False)\n",
        "test_loader = DataLoader(test_dataset, batch_size=batch_size, shuffle=False, drop_last=False)"
      ],
      "metadata": {
        "id": "leEwvxB7sVna"
      },
      "execution_count": 32,
      "outputs": []
    },
    {
      "cell_type": "code",
      "source": [
        "# Visualizza alcune immagini del trainset\n",
        "def show_images(images, n_rows=4):\n",
        "    grid = make_grid(images, nrow=n_rows)\n",
        "    plt.figure(figsize=(10, 10))\n",
        "\n",
        "    # Converti i tensori PyTorch in immagini PIL per la visualizzazione\n",
        "    grid_pil = F.to_pil_image(grid)\n",
        "\n",
        "    plt.imshow(grid_pil)\n",
        "    plt.axis('off')\n",
        "    plt.show()\n",
        "\n",
        "# Carica il primo batch di immagini dal DataLoader di addestramento\n",
        "data_iter = iter(train_loader)\n",
        "images, labels = next(data_iter)\n",
        "\n",
        "# Visualizza le immagini\n",
        "show_images(images)"
      ],
      "metadata": {
        "colab": {
          "base_uri": "https://localhost:8080/",
          "height": 236
        },
        "id": "LAE0ATjdxfRM",
        "outputId": "02c93222-ead1-40d0-d1dc-d05cae7ff10d"
      },
      "execution_count": 1,
      "outputs": [
        {
          "output_type": "error",
          "ename": "NameError",
          "evalue": "ignored",
          "traceback": [
            "\u001b[0;31m---------------------------------------------------------------------------\u001b[0m",
            "\u001b[0;31mNameError\u001b[0m                                 Traceback (most recent call last)",
            "\u001b[0;32m<ipython-input-1-5989b74a0685>\u001b[0m in \u001b[0;36m<cell line: 14>\u001b[0;34m()\u001b[0m\n\u001b[1;32m     12\u001b[0m \u001b[0;34m\u001b[0m\u001b[0m\n\u001b[1;32m     13\u001b[0m \u001b[0;31m# Carica il primo batch di immagini dal DataLoader di addestramento\u001b[0m\u001b[0;34m\u001b[0m\u001b[0;34m\u001b[0m\u001b[0m\n\u001b[0;32m---> 14\u001b[0;31m \u001b[0mdata_iter\u001b[0m \u001b[0;34m=\u001b[0m \u001b[0miter\u001b[0m\u001b[0;34m(\u001b[0m\u001b[0mtrain_loader\u001b[0m\u001b[0;34m)\u001b[0m\u001b[0;34m\u001b[0m\u001b[0;34m\u001b[0m\u001b[0m\n\u001b[0m\u001b[1;32m     15\u001b[0m \u001b[0mimages\u001b[0m\u001b[0;34m,\u001b[0m \u001b[0mlabels\u001b[0m \u001b[0;34m=\u001b[0m \u001b[0mnext\u001b[0m\u001b[0;34m(\u001b[0m\u001b[0mdata_iter\u001b[0m\u001b[0;34m)\u001b[0m\u001b[0;34m\u001b[0m\u001b[0;34m\u001b[0m\u001b[0m\n\u001b[1;32m     16\u001b[0m \u001b[0;34m\u001b[0m\u001b[0m\n",
            "\u001b[0;31mNameError\u001b[0m: name 'train_loader' is not defined"
          ]
        }
      ]
    },
    {
      "cell_type": "code",
      "source": [],
      "metadata": {
        "id": "V3rq2liSKlPA"
      },
      "execution_count": null,
      "outputs": []
    }
  ]
}