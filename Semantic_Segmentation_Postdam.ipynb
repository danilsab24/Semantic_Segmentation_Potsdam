{
  "nbformat": 4,
  "nbformat_minor": 0,
  "metadata": {
    "colab": {
      "provenance": [],
      "authorship_tag": "ABX9TyO/eLhOQHbGwkHxOPkxmO7g",
      "include_colab_link": true
    },
    "kernelspec": {
      "name": "python3",
      "display_name": "Python 3"
    },
    "language_info": {
      "name": "python"
    }
  },
  "cells": [
    {
      "cell_type": "markdown",
      "metadata": {
        "id": "view-in-github",
        "colab_type": "text"
      },
      "source": [
        "<a href=\"https://colab.research.google.com/github/danilsab24/Semantic_Segmentation_Potsdam/blob/main/Semantic_Segmentation_Postdam.ipynb\" target=\"_parent\"><img src=\"https://colab.research.google.com/assets/colab-badge.svg\" alt=\"Open In Colab\"/></a>"
      ]
    },
    {
      "cell_type": "markdown",
      "source": [
        "# Import delle librerie"
      ],
      "metadata": {
        "id": "ivDGwXmghBF-"
      }
    },
    {
      "cell_type": "code",
      "execution_count": 1,
      "metadata": {
        "colab": {
          "base_uri": "https://localhost:8080/"
        },
        "id": "BxsTnK7mfVyc",
        "outputId": "f3db2a3a-4561-4521-939b-f93c0e18de60"
      },
      "outputs": [
        {
          "output_type": "stream",
          "name": "stdout",
          "text": [
            "Cloning into 'Semantic_Segmentation_Potsdam'...\n",
            "remote: Enumerating objects: 36, done.\u001b[K\n",
            "remote: Counting objects: 100% (36/36), done.\u001b[K\n",
            "remote: Compressing objects: 100% (24/24), done.\u001b[K\n",
            "remote: Total 36 (delta 14), reused 23 (delta 6), pack-reused 0\u001b[K\n",
            "Receiving objects: 100% (36/36), 5.65 KiB | 5.65 MiB/s, done.\n",
            "Resolving deltas: 100% (14/14), done.\n"
          ]
        }
      ],
      "source": [
        "!git clone https://github.com/danilsab24/Semantic_Segmentation_Potsdam.git"
      ]
    },
    {
      "cell_type": "code",
      "source": [
        "from Semantic_Segmentation_Potsdam.Unet import UNET"
      ],
      "metadata": {
        "id": "RUs3n1Nmh3Zc"
      },
      "execution_count": 2,
      "outputs": []
    },
    {
      "cell_type": "markdown",
      "source": [
        "# Caricamento Dataset"
      ],
      "metadata": {
        "id": "eGvf-Ba5pTTc"
      }
    },
    {
      "cell_type": "code",
      "source": [
        "from google.colab import drive\n",
        "drive.mount('/content/drive')"
      ],
      "metadata": {
        "colab": {
          "base_uri": "https://localhost:8080/"
        },
        "id": "CNIZRy8BpSsA",
        "outputId": "5f1e6b69-aff5-4dc5-cd74-a2554f4049bf"
      },
      "execution_count": 3,
      "outputs": [
        {
          "output_type": "stream",
          "name": "stdout",
          "text": [
            "Mounted at /content/drive\n"
          ]
        }
      ]
    },
    {
      "cell_type": "code",
      "source": [
        "images_path = \"/content/drive/MyDrive/Semantic_Segmentation_Postdam/images_IRRG\"\n",
        "labels_path = \"/content/drive/MyDrive/Semantic_Segmentation_Postdam/labels\""
      ],
      "metadata": {
        "id": "ohCONeLJqTtQ"
      },
      "execution_count": 4,
      "outputs": []
    }
  ]
}